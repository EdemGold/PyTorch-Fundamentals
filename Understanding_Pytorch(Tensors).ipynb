{
  "nbformat": 4,
  "nbformat_minor": 0,
  "metadata": {
    "colab": {
      "private_outputs": true,
      "provenance": []
    },
    "kernelspec": {
      "name": "python3",
      "display_name": "Python 3"
    },
    "language_info": {
      "name": "python"
    }
  },
  "cells": [
    {
      "cell_type": "markdown",
      "source": [],
      "metadata": {
        "id": "4anffhtBAqMh"
      }
    },
    {
      "cell_type": "code",
      "source": [
        "#setting up torch \n",
        "import numpy as np\n",
        "import torch \n",
        "\n",
        "SEED = 1234\n",
        "\n",
        "#set seeds for reproducability\n",
        "np.random.seed(seed=SEED)\n",
        "\n",
        "torch.manual_seed(SEED)"
      ],
      "metadata": {
        "id": "zNI5QLb9yqQG"
      },
      "execution_count": null,
      "outputs": []
    },
    {
      "cell_type": "code",
      "source": [
        "#Creating a random tensor\n",
        "x = torch.randn(2,3)#2 by 3 array\n",
        "print(f\"Type: {x.type()}\")\n",
        "print(f\"Size: {x.size}\")\n",
        "print(f\"Values: \\n{x}\")"
      ],
      "metadata": {
        "id": "2Zuj8JDmCGlu"
      },
      "execution_count": null,
      "outputs": []
    },
    {
      "cell_type": "code",
      "source": [
        "#Tensors made up of Zeros and One \n",
        "x = torch.zeros(2,3)\n",
        "print(f\"Tesnor made up of zeros: \\n{x}\")\n",
        "\n",
        "x = torch.ones(2,3)\n",
        "print(f\"Tensors made up of ones: \\n {x}\")"
      ],
      "metadata": {
        "id": "pV4f24fn3kKD"
      },
      "execution_count": null,
      "outputs": []
    },
    {
      "cell_type": "code",
      "source": [
        "#Turning a list into a tensor\n",
        "x =  [[1,2,3], [5,6,7]]\n",
        "x = torch.Tensor(x)\n",
        "print(f\"Size: {x.size()}\")\n",
        "print(f\"Value: \\n {x}\")"
      ],
      "metadata": {
        "id": "9Y3QRSNsAoTg"
      },
      "execution_count": null,
      "outputs": []
    },
    {
      "cell_type": "code",
      "source": [
        "#turning a numpy array into a Tensor \n",
        "x = np.random.rand(2,3)\n",
        "\n",
        "x = torch.Tensor(x)\n",
        "\n",
        "print(f\"Size: {x.size()}\")\n",
        "\n",
        "print(f\"Value: {x}\")"
      ],
      "metadata": {
        "id": "zvLKLK9jAoam"
      },
      "execution_count": null,
      "outputs": []
    },
    {
      "cell_type": "code",
      "source": [
        "#changing tensor type \n",
        "x = torch.Tensor(2,3)\n",
        "print(f\"Type: {x.type()}\")\n",
        "print(f\"Value: {x}\")\n",
        "\n",
        "x  = x.long()\n",
        "print(f\"Type: {x.type()}\")\n",
        "print(f\"Value: {x}\")"
      ],
      "metadata": {
        "id": "hy8xRa0NoVZE"
      },
      "execution_count": null,
      "outputs": []
    },
    {
      "cell_type": "markdown",
      "source": [
        "# Operations in Tensors\n",
        "\n",
        "> Here basic operations will be performed on Tensors\n",
        "\n"
      ],
      "metadata": {
        "id": "iSJlzjPB0tUk"
      }
    },
    {
      "cell_type": "code",
      "source": [
        "#Addtion of tensors\n",
        "x = torch.randn(2,3)\n",
        "y = torch.randn(2,3)\n",
        "\n",
        "print(x)\n",
        "print(y)\n",
        "\n",
        "z = x+y\n",
        "print(f\"Value: \\n {z}\")"
      ],
      "metadata": {
        "id": "EhtHF69soVdB"
      },
      "execution_count": null,
      "outputs": []
    },
    {
      "cell_type": "code",
      "source": [
        "#dot product on tensors\n",
        "x = torch.randn(2,3)\n",
        "y = torch.randn(3,2)\n",
        "\n",
        "z = torch.mm(x, y)\n",
        "\n",
        "print (f\"Value: {z}\")"
      ],
      "metadata": {
        "id": "0HXn0iYR1P9N"
      },
      "execution_count": null,
      "outputs": []
    },
    {
      "cell_type": "code",
      "source": [
        "#transposing\n",
        "x =  torch.randn(2,3)\n",
        "print(f\"Size: {x.size()}\")\n",
        "print(f\"Value: {x}\")\n",
        "\n",
        "y = torch.t(x)\n",
        "print(f\"Size: {y.size()}\")\n",
        "print(f\"Value: {y}\")"
      ],
      "metadata": {
        "id": "4sCS2U_m0zyb"
      },
      "execution_count": null,
      "outputs": []
    },
    {
      "cell_type": "code",
      "source": [
        "#reshaping\n",
        "x = torch.randn(2,3)\n",
        "y = x.view(3,2)\n",
        "\n",
        "print(f\"Size: {x.size()}\")\n",
        "print(f\"Value: {x}\")"
      ],
      "metadata": {
        "id": "g_s453FC0z2i"
      },
      "execution_count": null,
      "outputs": []
    },
    {
      "cell_type": "code",
      "source": [
        "#Dimensional operations\n",
        "x = torch.randn(2,3)\n",
        "print(f\"Vlaue: \\n{x}\")\n",
        "\n",
        "y = torch.sum(x, dim=0)#add each row's value to every column\n",
        "print(f\"Value: {x}\")\n",
        "\n",
        "z = torch.sum(x, dim=1)\n",
        "print(f\"Value: {z}\")\n"
      ],
      "metadata": {
        "id": "FJ5cs_icgv7y"
      },
      "execution_count": null,
      "outputs": []
    },
    {
      "cell_type": "markdown",
      "source": [
        "# Indexing of Tensors\n",
        "\n",
        "In this section, we will learn how to output, and seperate values from our tensors."
      ],
      "metadata": {
        "id": "l7IDkwSjiUOI"
      }
    },
    {
      "cell_type": "code",
      "source": [
        "x = torch.randn(2,3)\n",
        "#outputting values from tensors\n",
        "print(f\"Values: \\n{x}\")\n",
        "\n",
        "#seperating values(from row1)\n",
        "print(f\"Values x[:1] {x[:1]}\")\n",
        "\n",
        "#seprating values(from the column of row1)\n",
        "print(f\"Values x[:1, 1:3] {x[:1, 1:3]}\")"
      ],
      "metadata": {
        "id": "feIrLh9egv71"
      },
      "execution_count": null,
      "outputs": []
    },
    {
      "cell_type": "markdown",
      "source": [
        "# Slicing Tensors\n"
      ],
      "metadata": {
        "id": "Pt_yGSxmm18b"
      }
    },
    {
      "cell_type": "code",
      "source": [
        "x = torch.randn(2,3)\n",
        "\n",
        "print(f\"Value: \\n{x}\")\n",
        "\n",
        "col_indices = torch.LongTensor([0,2])\n",
        "chosen_columns = torch.index_select(x, dim=1, index=col_indices)#result from columns 0 and 2\n",
        "print(f\"Values: \\n{chosen_columns}\")\n",
        "\n",
        "\n",
        "row_indices = torch.LongTensor([0,1])\n",
        "col_indices = torch.LongTensor([0,2])\n",
        "\n",
        "chosen = x[row_indices, col_indices]\n",
        "\n",
        "print(f\"Value: \\n{chosen}\")"
      ],
      "metadata": {
        "id": "-TXH8QlgmmUd"
      },
      "execution_count": null,
      "outputs": []
    },
    {
      "cell_type": "markdown",
      "source": [
        "# Joining\n",
        "In this section, We will be combining tensors via concatenation and Stacking"
      ],
      "metadata": {
        "id": "0m9W6yiZvQIz"
      }
    },
    {
      "cell_type": "code",
      "source": [
        "x = torch.randn(2,3)\n",
        "\n",
        "print(f\"Size: {x.size()}\")\n",
        "print(f\"Value: {x}\")"
      ],
      "metadata": {
        "id": "YvR0J35Ioy1z"
      },
      "execution_count": null,
      "outputs": []
    },
    {
      "cell_type": "code",
      "source": [
        "#Concanation\n",
        "y = torch.cat([x, x], dim=0)\n",
        "\n",
        "print(f\"Value: {y}\")\n",
        "print(f\"Size: {y.size()}\")"
      ],
      "metadata": {
        "id": "KA3Mw83lvcl5"
      },
      "execution_count": null,
      "outputs": []
    },
    {
      "cell_type": "code",
      "source": [
        "#Stacking\n",
        "z = torch.stack([x, x], dim=0)\n",
        "print(f\"Value: {z}\")\n",
        "print(f\"Size: {z.size()}\")"
      ],
      "metadata": {
        "id": "FPQbagWAv2WG"
      },
      "execution_count": null,
      "outputs": []
    },
    {
      "cell_type": "markdown",
      "source": [
        "# Gradients\n",
        "**Gradient Book-keeping** helps to track the gradient (rate of change) of tensors. In this section, we learn how to implement Gradient Bookeeping with Tensors."
      ],
      "metadata": {
        "id": "6zvzfaqjxOXh"
      }
    },
    {
      "cell_type": "code",
      "source": [
        "#implementing Gradient Book-Keeping\n",
        "x = torch.randn(3, 4, requires_grad=True)\n",
        "y = 3*x + 2\n",
        "z = y.mean()\n",
        "z.backward() #z has to be scalar\n",
        "\n",
        "print( f\"x: \\n{x}\")\n",
        "print(f\"x.grad \\n{x.grad}\")"
      ],
      "metadata": {
        "id": "dM42qT_uvcqZ"
      },
      "execution_count": null,
      "outputs": []
    },
    {
      "cell_type": "markdown",
      "source": [
        "# CUDA\n",
        "In this section, we show how we can check and run our Tensors on GPUs."
      ],
      "metadata": {
        "id": "G5w58mNE0LBN"
      }
    },
    {
      "cell_type": "code",
      "source": [
        "# set device, If CUDA is available \n",
        "device = torch.device(\"cuda\" if torch.cuda.is_available() else \"cpu\")\n",
        "print(device)"
      ],
      "metadata": {
        "id": "I2H_ebCbz8ZY"
      },
      "execution_count": null,
      "outputs": []
    },
    {
      "cell_type": "code",
      "source": [],
      "metadata": {
        "id": "QmTBes9t2CIM"
      },
      "execution_count": null,
      "outputs": []
    }
  ]
}